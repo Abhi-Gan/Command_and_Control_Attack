{
 "cells": [
  {
   "cell_type": "code",
   "execution_count": 2,
   "metadata": {},
   "outputs": [],
   "source": [
    "import os"
   ]
  },
  {
   "cell_type": "code",
   "execution_count": 8,
   "metadata": {},
   "outputs": [
    {
     "name": "stdout",
     "output_type": "stream",
     "text": [
      "b'&a\\xcf\\x93\\x1f\\xe4\\xd6\\xcaQhn\\xb1=\\x7f\\xb2\\x80D\\x15\\x88\\xb0.\\x0e\\x14\\x86\\x14\\x03\\xc9\\xbb\\x9fj\\xdf\\x0f'\n"
     ]
    }
   ],
   "source": [
    "symmetric_key = os.urandom(32)\n",
    "print(symmetric_key)"
   ]
  },
  {
   "cell_type": "code",
   "execution_count": 5,
   "metadata": {},
   "outputs": [],
   "source": [
    "with open(\"symm_key.txt\", \"wb\") as f:\n",
    "    hex_key = bytes(symmetric_key).hex()\n",
    "    f.write(hex_key.encode())"
   ]
  },
  {
   "cell_type": "code",
   "execution_count": 13,
   "metadata": {},
   "outputs": [
    {
     "name": "stdout",
     "output_type": "stream",
     "text": [
      "b'&a\\xcf\\x93\\x1f\\xe4\\xd6\\xcaQhn\\xb1=\\x7f\\xb2\\x80D\\x15\\x88\\xb0.\\x0e\\x14\\x86\\x14\\x03\\xc9\\xbb\\x9fj\\xdf\\x0f'\n"
     ]
    }
   ],
   "source": [
    "with open(\"symm_key.txt\", 'r') as key_f:\n",
    "            hex_key = bytes.fromhex(key_f.read())\n",
    "            print(symmetric_key)"
   ]
  },
  {
   "cell_type": "code",
   "execution_count": 29,
   "metadata": {},
   "outputs": [
    {
     "data": {
      "text/plain": [
       "b'\\xaa\\x15\\xfe\\x14,\\x90\\xb0\\x16\\x05\\x92\\x17\\x1ax\\x96\\x82^q\\xc5\\x9e\\x1ba\\x9d-\\x9a\\xbcX\\xf7gc\\xa3m\\xa2'"
      ]
     },
     "execution_count": 29,
     "metadata": {},
     "output_type": "execute_result"
    }
   ],
   "source": [
    "def read_key(key_fpath):\n",
    "    with open(key_fpath, 'r') as key_f:\n",
    "        hex_key = key_f.read()\n",
    "        symm_key = bytes.fromhex(hex_key)\n",
    "    return symm_key\n",
    "\n",
    "read_key(\"symm_key.txt\")"
   ]
  },
  {
   "cell_type": "markdown",
   "metadata": {},
   "source": [
    "### Try Encryption"
   ]
  },
  {
   "cell_type": "code",
   "execution_count": 14,
   "metadata": {},
   "outputs": [],
   "source": [
    "from cryptography.hazmat.primitives.ciphers.aead import AESGCM"
   ]
  },
  {
   "cell_type": "code",
   "execution_count": 24,
   "metadata": {},
   "outputs": [],
   "source": [
    "aesgcm = AESGCM(symmetric_key)\n",
    "nonce = os.urandom(12)\n",
    "msg_bytes = \"test message\".encode()\n",
    "ct = aesgcm.encrypt(nonce=nonce, \n",
    "                    data=msg_bytes,\n",
    "                    associated_data=None)\n",
    "out_ct = nonce+ct"
   ]
  },
  {
   "cell_type": "code",
   "execution_count": 25,
   "metadata": {},
   "outputs": [
    {
     "data": {
      "text/plain": [
       "b'\\xb6\\xd7\\x0f\\xe2\\xb1L\\xbd>\\n\\xb3\\x8bg\\x9c\\x14\\xe1/\\xc5-h\\x93\\xf61o\\x1b\\xba$-\\x06\\x8d\\xd6P\\xe2\\xb9^\\xf6rk5\\x15H'"
      ]
     },
     "execution_count": 25,
     "metadata": {},
     "output_type": "execute_result"
    }
   ],
   "source": [
    "out_ct"
   ]
  },
  {
   "cell_type": "code",
   "execution_count": 26,
   "metadata": {},
   "outputs": [
    {
     "data": {
      "text/plain": [
       "'test message'"
      ]
     },
     "execution_count": 26,
     "metadata": {},
     "output_type": "execute_result"
    }
   ],
   "source": [
    "nonce = out_ct[:12]\n",
    "ct = out_ct[12:]\n",
    "\n",
    "# decode\n",
    "aesgcm = AESGCM(symmetric_key)\n",
    "dec_msg_bytes = aesgcm.decrypt(nonce=nonce,\n",
    "               data=ct,\n",
    "               associated_data=None)\n",
    "dec_msg = dec_msg_bytes.decode()\n",
    "dec_msg"
   ]
  }
 ],
 "metadata": {
  "kernelspec": {
   "display_name": "Python 3",
   "language": "python",
   "name": "python3"
  },
  "language_info": {
   "codemirror_mode": {
    "name": "ipython",
    "version": 3
   },
   "file_extension": ".py",
   "mimetype": "text/x-python",
   "name": "python",
   "nbconvert_exporter": "python",
   "pygments_lexer": "ipython3",
   "version": "3.9.7"
  }
 },
 "nbformat": 4,
 "nbformat_minor": 2
}
